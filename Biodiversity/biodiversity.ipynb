{
 "cells": [
  {
   "cell_type": "markdown",
   "metadata": {},
   "source": [
    "# Biodiversity in National Parks"
   ]
  },
  {
   "cell_type": "markdown",
   "metadata": {},
   "source": [
    "## Introduction\n",
    "This project will interpret data from the National Parks Service about endangered species in different parks.\n",
    "\n",
    "**Goal**:\n",
    "To perform some data analysis on the conservation statuses of these species and investigate if there are any patterns or themes to the types of species that become endangered.\n",
    "\n",
    "The project aims to answer:\n",
    "- What is the distribution of conservation_status for animals?\n",
    "- Which species were spotted the most at each park?\n",
    "- What park has the most endangered species?\n",
    "- What category/type of species is the most endangered?\n",
    "- Are the differences between species and their conservation status significant?\n",
    "\n",
    "**Data source**:Both Observations.csv and Species_info.csv was provided by Codecademy.com.\n",
    "\n",
    "\n",
    "**Analysis**: Exploratory and Inferential Analysis used"
   ]
  },
  {
   "cell_type": "markdown",
   "metadata": {},
   "source": [
    "### Import Modules"
   ]
  },
  {
   "cell_type": "code",
   "execution_count": 4,
   "metadata": {},
   "outputs": [],
   "source": [
    "import pandas as pd\n",
    "import numpy as np\n",
    "from matplotlib import pyplot as plt\n",
    "import seaborn as sns\n"
   ]
  },
  {
   "cell_type": "markdown",
   "metadata": {},
   "source": [
    "### Load Data"
   ]
  },
  {
   "cell_type": "markdown",
   "metadata": {},
   "source": [
    "The Observations.csv contains information from recorded sightings of different species throughout the national parks in the past 7 days. The columns included are:\n",
    "\n",
    "- scientific_name - The scientific name of each species\n",
    "- park_name - The name of the national park\n",
    "- observations - The number of observations in the past 7 days"
   ]
  },
  {
   "cell_type": "code",
   "execution_count": 7,
   "metadata": {},
   "outputs": [
    {
     "name": "stdout",
     "output_type": "stream",
     "text": [
      "            scientific_name                            park_name  observations\n",
      "0        Vicia benghalensis  Great Smoky Mountains National Park            68\n",
      "1            Neovison vison  Great Smoky Mountains National Park            77\n",
      "2         Prunus subcordata               Yosemite National Park           138\n",
      "3      Abutilon theophrasti                  Bryce National Park            84\n",
      "4  Githopsis specularioides  Great Smoky Mountains National Park            85\n"
     ]
    }
   ],
   "source": [
    "observation = pd.read_csv('observations.csv')\n",
    "print(observation.head())"
   ]
  },
  {
   "cell_type": "markdown",
   "metadata": {},
   "source": [
    "The species_info.csv contains information on the different species in the National Parks. The columns in the data set include:\n",
    "\n",
    "- category - The category of taxonomy for each species\n",
    "- scientific_name - The scientific name of each species\n",
    "- common_names - The common names of each species\n",
    "- conservation_status - The species conservation status"
   ]
  },
  {
   "cell_type": "code",
   "execution_count": 9,
   "metadata": {},
   "outputs": [
    {
     "name": "stdout",
     "output_type": "stream",
     "text": [
      "  category                scientific_name  \\\n",
      "0   Mammal  Clethrionomys gapperi gapperi   \n",
      "1   Mammal                      Bos bison   \n",
      "2   Mammal                     Bos taurus   \n",
      "3   Mammal                     Ovis aries   \n",
      "4   Mammal                 Cervus elaphus   \n",
      "\n",
      "                                        common_names conservation_status  \n",
      "0                           Gapper's Red-Backed Vole                 NaN  \n",
      "1                              American Bison, Bison                 NaN  \n",
      "2  Aurochs, Aurochs, Domestic Cattle (Feral), Dom...                 NaN  \n",
      "3  Domestic Sheep, Mouflon, Red Sheep, Sheep (Feral)                 NaN  \n",
      "4                                      Wapiti Or Elk                 NaN  \n"
     ]
    }
   ],
   "source": [
    "species_info = pd.read_csv('species_info.csv')\n",
    "print(species_info.head())"
   ]
  },
  {
   "cell_type": "markdown",
   "metadata": {},
   "source": [
    "### Explore the Data"
   ]
  },
  {
   "cell_type": "code",
   "execution_count": 11,
   "metadata": {},
   "outputs": [
    {
     "data": {
      "text/plain": [
       "(23296, 3)"
      ]
     },
     "execution_count": 11,
     "metadata": {},
     "output_type": "execute_result"
    }
   ],
   "source": [
    "observation.shape #(rows, columns)\n"
   ]
  },
  {
   "cell_type": "code",
   "execution_count": 12,
   "metadata": {},
   "outputs": [
    {
     "data": {
      "text/plain": [
       "(5824, 4)"
      ]
     },
     "execution_count": 12,
     "metadata": {},
     "output_type": "execute_result"
    }
   ],
   "source": [
    "species_info.shape"
   ]
  },
  {
   "cell_type": "code",
   "execution_count": 13,
   "metadata": {},
   "outputs": [
    {
     "data": {
      "text/plain": [
       "scientific_name    object\n",
       "park_name          object\n",
       "observations        int64\n",
       "dtype: object"
      ]
     },
     "execution_count": 13,
     "metadata": {},
     "output_type": "execute_result"
    }
   ],
   "source": [
    "#datatypes\n",
    "observation.dtypes\n"
   ]
  },
  {
   "cell_type": "code",
   "execution_count": 14,
   "metadata": {},
   "outputs": [
    {
     "data": {
      "text/plain": [
       "category               object\n",
       "scientific_name        object\n",
       "common_names           object\n",
       "conservation_status    object\n",
       "dtype: object"
      ]
     },
     "execution_count": 14,
     "metadata": {},
     "output_type": "execute_result"
    }
   ],
   "source": [
    "species_info.dtypes"
   ]
  },
  {
   "cell_type": "code",
   "execution_count": 16,
   "metadata": {},
   "outputs": [
    {
     "data": {
      "text/plain": [
       "scientific_name    5541\n",
       "park_name             4\n",
       "observations        304\n",
       "dtype: int64"
      ]
     },
     "execution_count": 16,
     "metadata": {},
     "output_type": "execute_result"
    }
   ],
   "source": [
    "observation.nunique()\n"
   ]
  },
  {
   "cell_type": "code",
   "execution_count": 20,
   "metadata": {},
   "outputs": [
    {
     "data": {
      "text/plain": [
       "category                  7\n",
       "scientific_name        5541\n",
       "common_names           5504\n",
       "conservation_status       4\n",
       "dtype: int64"
      ]
     },
     "execution_count": 20,
     "metadata": {},
     "output_type": "execute_result"
    }
   ],
   "source": [
    "species_info.nunique()"
   ]
  },
  {
   "cell_type": "code",
   "execution_count": 26,
   "metadata": {},
   "outputs": [
    {
     "name": "stdout",
     "output_type": "stream",
     "text": [
      "['Mammal' 'Bird' 'Reptile' 'Amphibian' 'Fish' 'Vascular Plant'\n",
      " 'Nonvascular Plant']\n"
     ]
    }
   ],
   "source": [
    "print(species_info.category.unique())"
   ]
  },
  {
   "cell_type": "code",
   "execution_count": 28,
   "metadata": {
    "scrolled": true
   },
   "outputs": [
    {
     "data": {
      "text/plain": [
       "category\n",
       "Amphibian              80\n",
       "Bird                  521\n",
       "Fish                  127\n",
       "Mammal                214\n",
       "Nonvascular Plant     333\n",
       "Reptile                79\n",
       "Vascular Plant       4470\n",
       "dtype: int64"
      ]
     },
     "execution_count": 28,
     "metadata": {},
     "output_type": "execute_result"
    }
   ],
   "source": [
    "#count of category in the data\n",
    "species_info.groupby(\"category\").size()"
   ]
  },
  {
   "cell_type": "code",
   "execution_count": 30,
   "metadata": {},
   "outputs": [
    {
     "name": "stdout",
     "output_type": "stream",
     "text": [
      "[nan 'Species of Concern' 'Endangered' 'Threatened' 'In Recovery']\n"
     ]
    }
   ],
   "source": [
    "print(species_info.conservation_status.unique())"
   ]
  },
  {
   "cell_type": "code",
   "execution_count": 32,
   "metadata": {},
   "outputs": [
    {
     "name": "stdout",
     "output_type": "stream",
     "text": [
      "5633\n",
      "conservation_status\n",
      "Endangered             16\n",
      "In Recovery             4\n",
      "Species of Concern    161\n",
      "Threatened             10\n",
      "dtype: int64\n"
     ]
    }
   ],
   "source": [
    "#How many species are in each category\n",
    "print(species_info.conservation_status.isna().sum()) #no of nan values \n",
    "\n",
    "print(species_info.groupby(\"conservation_status\").size())"
   ]
  },
  {
   "cell_type": "markdown",
   "metadata": {},
   "source": [
    "There are 5633 nan values in the conservation_status column and based on the categories of the column wecan conlude that the rows with nan values are species that are not under any conservation status."
   ]
  },
  {
   "cell_type": "code",
   "execution_count": 35,
   "metadata": {},
   "outputs": [
    {
     "name": "stdout",
     "output_type": "stream",
     "text": [
      "['Great Smoky Mountains National Park' 'Yosemite National Park'\n",
      " 'Bryce National Park' 'Yellowstone National Park']\n"
     ]
    }
   ],
   "source": [
    "print(observation.park_name.unique())"
   ]
  },
  {
   "cell_type": "code",
   "execution_count": 37,
   "metadata": {
    "scrolled": true
   },
   "outputs": [
    {
     "data": {
      "text/plain": [
       "park_name\n",
       "Bryce National Park                    5824\n",
       "Great Smoky Mountains National Park    5824\n",
       "Yellowstone National Park              5824\n",
       "Yosemite National Park                 5824\n",
       "dtype: int64"
      ]
     },
     "execution_count": 37,
     "metadata": {},
     "output_type": "execute_result"
    }
   ],
   "source": [
    "#no of species entries by park\n",
    "observation.groupby(\"park_name\").size()"
   ]
  },
  {
   "cell_type": "code",
   "execution_count": 39,
   "metadata": {},
   "outputs": [
    {
     "name": "stdout",
     "output_type": "stream",
     "text": [
      "                             park_name  observations\n",
      "0                  Bryce National Park        576025\n",
      "1  Great Smoky Mountains National Park        431820\n",
      "2            Yellowstone National Park       1443562\n",
      "3               Yosemite National Park        863332\n"
     ]
    }
   ],
   "source": [
    "#total no of observations in each park\n",
    "\n",
    "# Group by park and sum observations\n",
    "park_observations = observation.groupby('park_name')['observations'].sum().reset_index()\n",
    "\n",
    "# Display the result\n",
    "print(park_observations)\n"
   ]
  },
  {
   "cell_type": "code",
   "execution_count": 41,
   "metadata": {},
   "outputs": [
    {
     "data": {
      "text/plain": [
       "3314739"
      ]
     },
     "execution_count": 41,
     "metadata": {},
     "output_type": "execute_result"
    }
   ],
   "source": [
    "observation.observations.sum() #The total number of observations made in the dataset"
   ]
  },
  {
   "cell_type": "markdown",
   "metadata": {},
   "source": [
    "## Analysing the Data"
   ]
  },
  {
   "cell_type": "markdown",
   "metadata": {},
   "source": [
    "1. Firstly converting the nan values to None- meaning no conservation status"
   ]
  },
  {
   "cell_type": "code",
   "execution_count": 45,
   "metadata": {},
   "outputs": [
    {
     "name": "stdout",
     "output_type": "stream",
     "text": [
      "   category                scientific_name  \\\n",
      "0    Mammal  Clethrionomys gapperi gapperi   \n",
      "1    Mammal                      Bos bison   \n",
      "2    Mammal                     Bos taurus   \n",
      "3    Mammal                     Ovis aries   \n",
      "4    Mammal                 Cervus elaphus   \n",
      "5    Mammal         Odocoileus virginianus   \n",
      "6    Mammal                     Sus scrofa   \n",
      "7    Mammal                  Canis latrans   \n",
      "8    Mammal                    Canis lupus   \n",
      "9    Mammal                    Canis rufus   \n",
      "10   Mammal       Urocyon cinereoargenteus   \n",
      "11   Mammal                   Vulpes fulva   \n",
      "12   Mammal                  Vulpes vulpes   \n",
      "13   Mammal                 Felis concolor   \n",
      "14   Mammal               Felis silvestris   \n",
      "15   Mammal                     Lynx rufus   \n",
      "16   Mammal                  Puma concolor   \n",
      "17   Mammal              Mephitis mephitis   \n",
      "18   Mammal             Spilogale putorius   \n",
      "19   Mammal              Lontra canadensis   \n",
      "\n",
      "                                         common_names conservation_status  \n",
      "0                            Gapper's Red-Backed Vole                None  \n",
      "1                               American Bison, Bison                None  \n",
      "2   Aurochs, Aurochs, Domestic Cattle (Feral), Dom...                None  \n",
      "3   Domestic Sheep, Mouflon, Red Sheep, Sheep (Feral)                None  \n",
      "4                                       Wapiti Or Elk                None  \n",
      "5                                   White-Tailed Deer                None  \n",
      "6                                 Feral Hog, Wild Pig                None  \n",
      "7                                              Coyote  Species of Concern  \n",
      "8                                           Gray Wolf          Endangered  \n",
      "9                                            Red Wolf          Endangered  \n",
      "10                          Common Gray Fox, Gray Fox                None  \n",
      "11          Black Fox, Cross Fox, Red Fox, Silver Fox                None  \n",
      "12                                            Red Fox                None  \n",
      "13                                      Mountain Lion                None  \n",
      "14                                  Wild Cat, Wildcat                None  \n",
      "15                                             Bobcat                None  \n",
      "16                            Panther (Mountain Lion)                None  \n",
      "17                                      Striped Skunk                None  \n",
      "18                              Eastern Spotted Skunk                None  \n",
      "19                                        River Otter                None  \n"
     ]
    }
   ],
   "source": [
    "species_info['conservation_status'] = species_info['conservation_status'].fillna(\"None\")\n",
    "print(species_info.head(20))\n"
   ]
  },
  {
   "cell_type": "markdown",
   "metadata": {},
   "source": [
    "2. What is the distribution of conservation_status for animals?"
   ]
  },
  {
   "cell_type": "code",
   "execution_count": 48,
   "metadata": {},
   "outputs": [
    {
     "data": {
      "text/html": [
       "<div>\n",
       "<style scoped>\n",
       "    .dataframe tbody tr th:only-of-type {\n",
       "        vertical-align: middle;\n",
       "    }\n",
       "\n",
       "    .dataframe tbody tr th {\n",
       "        vertical-align: top;\n",
       "    }\n",
       "\n",
       "    .dataframe thead th {\n",
       "        text-align: right;\n",
       "    }\n",
       "</style>\n",
       "<table border=\"1\" class=\"dataframe\">\n",
       "  <thead>\n",
       "    <tr style=\"text-align: right;\">\n",
       "      <th>category</th>\n",
       "      <th>Amphibian</th>\n",
       "      <th>Bird</th>\n",
       "      <th>Fish</th>\n",
       "      <th>Mammal</th>\n",
       "      <th>Nonvascular Plant</th>\n",
       "      <th>Reptile</th>\n",
       "      <th>Vascular Plant</th>\n",
       "    </tr>\n",
       "    <tr>\n",
       "      <th>conservation_status</th>\n",
       "      <th></th>\n",
       "      <th></th>\n",
       "      <th></th>\n",
       "      <th></th>\n",
       "      <th></th>\n",
       "      <th></th>\n",
       "      <th></th>\n",
       "    </tr>\n",
       "  </thead>\n",
       "  <tbody>\n",
       "    <tr>\n",
       "      <th>Endangered</th>\n",
       "      <td>1</td>\n",
       "      <td>4</td>\n",
       "      <td>3</td>\n",
       "      <td>7</td>\n",
       "      <td>0</td>\n",
       "      <td>0</td>\n",
       "      <td>1</td>\n",
       "    </tr>\n",
       "    <tr>\n",
       "      <th>In Recovery</th>\n",
       "      <td>0</td>\n",
       "      <td>3</td>\n",
       "      <td>0</td>\n",
       "      <td>1</td>\n",
       "      <td>0</td>\n",
       "      <td>0</td>\n",
       "      <td>0</td>\n",
       "    </tr>\n",
       "    <tr>\n",
       "      <th>Species of Concern</th>\n",
       "      <td>4</td>\n",
       "      <td>72</td>\n",
       "      <td>4</td>\n",
       "      <td>28</td>\n",
       "      <td>5</td>\n",
       "      <td>5</td>\n",
       "      <td>43</td>\n",
       "    </tr>\n",
       "    <tr>\n",
       "      <th>Threatened</th>\n",
       "      <td>2</td>\n",
       "      <td>0</td>\n",
       "      <td>4</td>\n",
       "      <td>2</td>\n",
       "      <td>0</td>\n",
       "      <td>0</td>\n",
       "      <td>2</td>\n",
       "    </tr>\n",
       "  </tbody>\n",
       "</table>\n",
       "</div>"
      ],
      "text/plain": [
       "category             Amphibian  Bird  Fish  Mammal  Nonvascular Plant  \\\n",
       "conservation_status                                                     \n",
       "Endangered                   1     4     3       7                  0   \n",
       "In Recovery                  0     3     0       1                  0   \n",
       "Species of Concern           4    72     4      28                  5   \n",
       "Threatened                   2     0     4       2                  0   \n",
       "\n",
       "category             Reptile  Vascular Plant  \n",
       "conservation_status                           \n",
       "Endangered                 0               1  \n",
       "In Recovery                0               0  \n",
       "Species of Concern         5              43  \n",
       "Threatened                 0               2  "
      ]
     },
     "execution_count": 48,
     "metadata": {},
     "output_type": "execute_result"
    }
   ],
   "source": [
    "filtered_species_info = species_info[species_info['conservation_status'] != 'None'] #filtering out the None category\n",
    "sc_crosstab = pd.crosstab(filtered_species_info['conservation_status'], species_info['category'])\n",
    "sc_crosstab"
   ]
  },
  {
   "cell_type": "code",
   "execution_count": 50,
   "metadata": {},
   "outputs": [
    {
     "data": {
      "image/png": "[encoded data removed]",
      "text/plain": [
       "<Figure size 640x480 with 1 Axes>"
      ]
     },
     "metadata": {},
     "output_type": "display_data"
    }
   ],
   "source": [
    "#plotting the crosstab\n",
    "sc_crosstab.plot(kind='bar', stacked=True)\n",
    "plt.xlabel('Conservation Status')\n",
    "plt.ylabel('Number of species')\n",
    "plt.title('Crosstab Plot')\n",
    "plt.show()"
   ]
  },
  {
   "cell_type": "markdown",
   "metadata": {},
   "source": [
    "Insight: This shows that most species with a conservation staus other than none are Species of Concern. It also shows birds with the most species in 'species of conern' but also the most 'in recovery'. From this distribution we may also conlude that out of all the conservation satuses there are very few species in recovery."
   ]
  },
  {
   "cell_type": "markdown",
   "metadata": {},
   "source": [
    "2. Which species were spotted the most at each park? \n"
   ]
  },
  {
   "cell_type": "code",
   "execution_count": 54,
   "metadata": {},
   "outputs": [
    {
     "name": "stdout",
     "output_type": "stream",
     "text": [
      "Park: Bryce National Park, Species: Valerianella radiata, Observations: 176\n",
      "Park: Great Smoky Mountains National Park, Species: Sonchus asper ssp. asper, Observations: 147\n",
      "Park: Yellowstone National Park, Species: Lycopodium tristachyum, Observations: 321\n",
      "Park: Yosemite National Park, Species: Ivesia shockleyi var. shockleyi, Observations: 223\n"
     ]
    }
   ],
   "source": [
    "#park name, scientific name, observation, observation csv\n",
    "#iterate though the dataset, for each park give me the max observation and the scientinf name of it \n",
    "grouped_data = observation.groupby('park_name')\n",
    "for park_name, group in grouped_data:\n",
    "    max_observations = group.loc[group['observations'].idxmax()] \n",
    "    # .idxmax returns the index of the first occurrence of the maximum value in the ‘observations’ column.\n",
    "    #group.loc retrieves the row corresponding to the index returned by idxmax(), which is the row with the maximum observations.\n",
    "    print(f\"Park: {park_name}, Species: {max_observations['scientific_name']}, Observations: {max_observations['observations']}\")\n",
    "    "
   ]
  },
  {
   "cell_type": "markdown",
   "metadata": {},
   "source": [
    "From this we can see the most observed specie in each park. Upon checking the species_info dataset they all appear to be Vascular plants.\n",
    "Went further by looking at the distribution of the specie categories across parks."
   ]
  },
  {
   "cell_type": "markdown",
   "metadata": {},
   "source": [
    "First I'll merge the dataset to aid the analysis"
   ]
  },
  {
   "cell_type": "code",
   "execution_count": 58,
   "metadata": {},
   "outputs": [
    {
     "name": "stdout",
     "output_type": "stream",
     "text": [
      "  scientific_name                            park_name  observations  \\\n",
      "0   Abies bifolia                  Bryce National Park           109   \n",
      "1   Abies bifolia            Yellowstone National Park           215   \n",
      "2   Abies bifolia  Great Smoky Mountains National Park            72   \n",
      "3   Abies bifolia               Yosemite National Park           136   \n",
      "4  Abies concolor  Great Smoky Mountains National Park           101   \n",
      "\n",
      "         category                                       common_names  \\\n",
      "0  Vascular Plant                          Rocky Mountain Alpine Fir   \n",
      "1  Vascular Plant                          Rocky Mountain Alpine Fir   \n",
      "2  Vascular Plant                          Rocky Mountain Alpine Fir   \n",
      "3  Vascular Plant                          Rocky Mountain Alpine Fir   \n",
      "4  Vascular Plant  Balsam Fir, Colorado Fir, Concolor Fir, Silver...   \n",
      "\n",
      "  conservation_status  \n",
      "0                None  \n",
      "1                None  \n",
      "2                None  \n",
      "3                None  \n",
      "4                None  \n",
      "25632\n"
     ]
    },
    {
     "data": {
      "text/plain": [
       "scientific_name        0\n",
       "park_name              0\n",
       "observations           0\n",
       "category               0\n",
       "common_names           0\n",
       "conservation_status    0\n",
       "dtype: int64"
      ]
     },
     "execution_count": 58,
     "metadata": {},
     "output_type": "execute_result"
    }
   ],
   "source": [
    "merged_df = pd.merge(observation, species_info, on='scientific_name', how='outer')\n",
    "print(merged_df.head())\n",
    "print(len(merged_df))\n",
    "merged_df.isna().sum()"
   ]
  },
  {
   "cell_type": "code",
   "execution_count": 59,
   "metadata": {},
   "outputs": [
    {
     "name": "stdout",
     "output_type": "stream",
     "text": [
      "                              park_name           category  scientific_name\n",
      "0                   Bryce National Park          Amphibian               79\n",
      "1                   Bryce National Park               Bird              488\n",
      "2                   Bryce National Park               Fish              125\n",
      "3                   Bryce National Park             Mammal              176\n",
      "4                   Bryce National Park  Nonvascular Plant              333\n",
      "5                   Bryce National Park            Reptile               78\n",
      "6                   Bryce National Park     Vascular Plant             4262\n",
      "7   Great Smoky Mountains National Park          Amphibian               79\n",
      "8   Great Smoky Mountains National Park               Bird              488\n",
      "9   Great Smoky Mountains National Park               Fish              125\n",
      "10  Great Smoky Mountains National Park             Mammal              176\n",
      "11  Great Smoky Mountains National Park  Nonvascular Plant              333\n",
      "12  Great Smoky Mountains National Park            Reptile               78\n",
      "13  Great Smoky Mountains National Park     Vascular Plant             4262\n",
      "14            Yellowstone National Park          Amphibian               79\n",
      "15            Yellowstone National Park               Bird              488\n",
      "16            Yellowstone National Park               Fish              125\n",
      "17            Yellowstone National Park             Mammal              176\n",
      "18            Yellowstone National Park  Nonvascular Plant              333\n",
      "19            Yellowstone National Park            Reptile               78\n",
      "20            Yellowstone National Park     Vascular Plant             4262\n",
      "21               Yosemite National Park          Amphibian               79\n",
      "22               Yosemite National Park               Bird              488\n",
      "23               Yosemite National Park               Fish              125\n",
      "24               Yosemite National Park             Mammal              176\n",
      "25               Yosemite National Park  Nonvascular Plant              333\n",
      "26               Yosemite National Park            Reptile               78\n",
      "27               Yosemite National Park     Vascular Plant             4262\n"
     ]
    }
   ],
   "source": [
    "#What is the distribution of each species category across parks?\n",
    "parkwise_distribution = merged_df.groupby(['park_name', 'category'])['scientific_name'].nunique().reset_index()\n",
    "print(parkwise_distribution)\n"
   ]
  },
  {
   "cell_type": "code",
   "execution_count": 62,
   "metadata": {},
   "outputs": [
    {
     "data": {
      "image/png": "[encoded data removed]",
      "text/plain": [
       "<Figure size 1400x800 with 1 Axes>"
      ]
     },
     "metadata": {},
     "output_type": "display_data"
    }
   ],
   "source": [
    "plt.figure(figsize=(14, 8))\n",
    "sns.barplot(data=parkwise_distribution, x='park_name', y='scientific_name', hue='category')\n",
    "plt.title('Species Distribution Across Parks by Category')\n",
    "plt.ylabel('Number of Species')\n",
    "plt.xlabel('Park Name')\n",
    "plt.xticks(rotation=45)\n",
    "plt.show()\n"
   ]
  },
  {
   "cell_type": "code",
   "execution_count": 63,
   "metadata": {},
   "outputs": [
    {
     "data": {
      "image/png": "[encoded data removed]",
      "text/plain": [
       "<Figure size 1400x800 with 1 Axes>"
      ]
     },
     "metadata": {},
     "output_type": "display_data"
    }
   ],
   "source": [
    "#creating a second chart without vascular plants to focus on distribution of less prevalent categories\n",
    "# Filter out vascular plants\n",
    "non_vascular_data = parkwise_distribution[parkwise_distribution['category'] != 'Vascular Plant']\n",
    "\n",
    "# Plot \n",
    "plt.figure(figsize=(14, 8))\n",
    "sns.barplot(data=non_vascular_data, x='park_name', y='scientific_name', hue='category')\n",
    "plt.title('Species Distribution Across Parks by Category (Excluding Vascular Plants)')\n",
    "plt.ylabel('Number of Species')\n",
    "plt.xlabel('Park Name')\n",
    "plt.xticks(rotation=45)\n",
    "plt.show()\n"
   ]
  },
  {
   "cell_type": "markdown",
   "metadata": {},
   "source": [
    "It looks like the specie categories are venly distributed among each park. This may mean consistent species diversity or dataset limitations.\n"
   ]
  },
  {
   "cell_type": "markdown",
   "metadata": {},
   "source": [
    "3.  What park has the most endangered species?"
   ]
  },
  {
   "cell_type": "code",
   "execution_count": 67,
   "metadata": {},
   "outputs": [
    {
     "name": "stdout",
     "output_type": "stream",
     "text": [
      "Park with the most endangered species: Bryce National Park, Number of species: 15\n"
     ]
    }
   ],
   "source": [
    "#park_name, conservation status, specie\n",
    "#Filter data to include only rows with the status 'Endangered'\n",
    "endangered_data = merged_df[merged_df['conservation_status'] == 'Endangered']\n",
    "grouped_data = endangered_data.groupby('park_name')\n",
    "\n",
    "max_species_count = 0\n",
    "park_with_most_endagered = None\n",
    "for park_name, group in grouped_data:\n",
    "    species_count = group['scientific_name'].nunique()\n",
    "    if species_count > max_species_count:\n",
    "        max_species_count = species_count\n",
    "        park_with_most_endangered = park_name\n",
    "print(f\"Park with the most endangered species: {park_with_most_endangered}, Number of species: {max_species_count}\")\n",
    "\n"
   ]
  },
  {
   "cell_type": "markdown",
   "metadata": {},
   "source": [
    "4.  What category/type of specie is the most endangered/most likely to be endangered?"
   ]
  },
  {
   "cell_type": "code",
   "execution_count": 71,
   "metadata": {},
   "outputs": [
    {
     "data": {
      "text/html": [
       "<div>\n",
       "<style scoped>\n",
       "    .dataframe tbody tr th:only-of-type {\n",
       "        vertical-align: middle;\n",
       "    }\n",
       "\n",
       "    .dataframe tbody tr th {\n",
       "        vertical-align: top;\n",
       "    }\n",
       "\n",
       "    .dataframe thead th {\n",
       "        text-align: right;\n",
       "    }\n",
       "</style>\n",
       "<table border=\"1\" class=\"dataframe\">\n",
       "  <thead>\n",
       "    <tr style=\"text-align: right;\">\n",
       "      <th></th>\n",
       "      <th>category</th>\n",
       "      <th>not_likely(false)</th>\n",
       "      <th>likely(true)</th>\n",
       "    </tr>\n",
       "  </thead>\n",
       "  <tbody>\n",
       "    <tr>\n",
       "      <th>0</th>\n",
       "      <td>Amphibian</td>\n",
       "      <td>72</td>\n",
       "      <td>7</td>\n",
       "    </tr>\n",
       "    <tr>\n",
       "      <th>1</th>\n",
       "      <td>Bird</td>\n",
       "      <td>413</td>\n",
       "      <td>75</td>\n",
       "    </tr>\n",
       "    <tr>\n",
       "      <th>2</th>\n",
       "      <td>Fish</td>\n",
       "      <td>115</td>\n",
       "      <td>11</td>\n",
       "    </tr>\n",
       "    <tr>\n",
       "      <th>3</th>\n",
       "      <td>Mammal</td>\n",
       "      <td>146</td>\n",
       "      <td>30</td>\n",
       "    </tr>\n",
       "    <tr>\n",
       "      <th>4</th>\n",
       "      <td>Nonvascular Plant</td>\n",
       "      <td>328</td>\n",
       "      <td>5</td>\n",
       "    </tr>\n",
       "    <tr>\n",
       "      <th>5</th>\n",
       "      <td>Reptile</td>\n",
       "      <td>73</td>\n",
       "      <td>5</td>\n",
       "    </tr>\n",
       "    <tr>\n",
       "      <th>6</th>\n",
       "      <td>Vascular Plant</td>\n",
       "      <td>4216</td>\n",
       "      <td>46</td>\n",
       "    </tr>\n",
       "  </tbody>\n",
       "</table>\n",
       "</div>"
      ],
      "text/plain": [
       "            category  not_likely(false)  likely(true)\n",
       "0          Amphibian                 72             7\n",
       "1               Bird                413            75\n",
       "2               Fish                115            11\n",
       "3             Mammal                146            30\n",
       "4  Nonvascular Plant                328             5\n",
       "5            Reptile                 73             5\n",
       "6     Vascular Plant               4216            46"
      ]
     },
     "execution_count": 71,
     "metadata": {},
     "output_type": "execute_result"
    }
   ],
   "source": [
    "#most likely to be endangered means it is one of the statuses that is not none\n",
    "#so first create a column of the no of species whose status isn't none then group the column by category\n",
    "\n",
    "species_info['likely_endangered'] = species_info.conservation_status != 'None'\n",
    "\n",
    "count = species_info.groupby(['category','likely_endangered']).scientific_name.nunique().reset_index().pivot(columns='likely_endangered',index='category',values='scientific_name').reset_index()\n",
    "#count = species_info.groupby(['category','likely_endangered']).scientific_name.nunique().reset_index()\n",
    "count.columns = ['category', 'not_likely(false)', 'likely(true)']\n",
    "count\n"
   ]
  },
  {
   "cell_type": "markdown",
   "metadata": {},
   "source": [
    "Insight: This shows  Birds, Mammals and Vascular plants with the highest no of species that are most likely to be endagered"
   ]
  },
  {
   "cell_type": "code",
   "execution_count": 74,
   "metadata": {},
   "outputs": [
    {
     "data": {
      "text/html": [
       "<div>\n",
       "<style scoped>\n",
       "    .dataframe tbody tr th:only-of-type {\n",
       "        vertical-align: middle;\n",
       "    }\n",
       "\n",
       "    .dataframe tbody tr th {\n",
       "        vertical-align: top;\n",
       "    }\n",
       "\n",
       "    .dataframe thead th {\n",
       "        text-align: right;\n",
       "    }\n",
       "</style>\n",
       "<table border=\"1\" class=\"dataframe\">\n",
       "  <thead>\n",
       "    <tr style=\"text-align: right;\">\n",
       "      <th></th>\n",
       "      <th>category</th>\n",
       "      <th>not_likely(false)</th>\n",
       "      <th>likely(true)</th>\n",
       "      <th>percent_protected</th>\n",
       "    </tr>\n",
       "  </thead>\n",
       "  <tbody>\n",
       "    <tr>\n",
       "      <th>0</th>\n",
       "      <td>Amphibian</td>\n",
       "      <td>72</td>\n",
       "      <td>7</td>\n",
       "      <td>8.860759</td>\n",
       "    </tr>\n",
       "    <tr>\n",
       "      <th>1</th>\n",
       "      <td>Bird</td>\n",
       "      <td>413</td>\n",
       "      <td>75</td>\n",
       "      <td>15.368852</td>\n",
       "    </tr>\n",
       "    <tr>\n",
       "      <th>2</th>\n",
       "      <td>Fish</td>\n",
       "      <td>115</td>\n",
       "      <td>11</td>\n",
       "      <td>8.730159</td>\n",
       "    </tr>\n",
       "    <tr>\n",
       "      <th>3</th>\n",
       "      <td>Mammal</td>\n",
       "      <td>146</td>\n",
       "      <td>30</td>\n",
       "      <td>17.045455</td>\n",
       "    </tr>\n",
       "    <tr>\n",
       "      <th>4</th>\n",
       "      <td>Nonvascular Plant</td>\n",
       "      <td>328</td>\n",
       "      <td>5</td>\n",
       "      <td>1.501502</td>\n",
       "    </tr>\n",
       "    <tr>\n",
       "      <th>5</th>\n",
       "      <td>Reptile</td>\n",
       "      <td>73</td>\n",
       "      <td>5</td>\n",
       "      <td>6.410256</td>\n",
       "    </tr>\n",
       "    <tr>\n",
       "      <th>6</th>\n",
       "      <td>Vascular Plant</td>\n",
       "      <td>4216</td>\n",
       "      <td>46</td>\n",
       "      <td>1.079305</td>\n",
       "    </tr>\n",
       "  </tbody>\n",
       "</table>\n",
       "</div>"
      ],
      "text/plain": [
       "            category  not_likely(false)  likely(true)  percent_protected\n",
       "0          Amphibian                 72             7           8.860759\n",
       "1               Bird                413            75          15.368852\n",
       "2               Fish                115            11           8.730159\n",
       "3             Mammal                146            30          17.045455\n",
       "4  Nonvascular Plant                328             5           1.501502\n",
       "5            Reptile                 73             5           6.410256\n",
       "6     Vascular Plant               4216            46           1.079305"
      ]
     },
     "execution_count": 74,
     "metadata": {},
     "output_type": "execute_result"
    }
   ],
   "source": [
    "#Calculating the percentage based on the total population of species by category to get proper insight\n",
    "#true/true+false times 100\n",
    "xx = count['likely(true)']\n",
    "xy = count['not_likely(false)']\n",
    "count['percent_protected'] = xx /  (xx + xy) * 100\n",
    "count"
   ]
  },
  {
   "cell_type": "markdown",
   "metadata": {},
   "source": [
    "This shows that Birds have a 15% and Mammals have a 17% of their species are most likely to be endangered."
   ]
  },
  {
   "cell_type": "markdown",
   "metadata": {},
   "source": [
    "5. Are the differences between species and their conservation status significant?\n",
    " "
   ]
  },
  {
   "cell_type": "markdown",
   "metadata": {},
   "source": [
    "Basically are certain species  more likely to have a specific conservation status (like endangered, threatened, etc.) compared to others."
   ]
  },
  {
   "cell_type": "markdown",
   "metadata": {},
   "source": [
    "Chi-square is a common method for testing for independence between two categorical variables, such as species and conservation status.\n",
    "It checks whether the distribution of conservation statuses is independent of species.\n"
   ]
  },
  {
   "cell_type": "code",
   "execution_count": 80,
   "metadata": {},
   "outputs": [
    {
     "name": "stdout",
     "output_type": "stream",
     "text": [
      "(0.16170148316545574, 0.6875948096661336)\n"
     ]
    }
   ],
   "source": [
    "#Using the categories Bird and Mammal as they fit the chi square assumptions\n",
    "from scipy.stats import chi2_contingency\n",
    "contingency2 = [\n",
    "    [413, 75], #Bird\n",
    "    [146, 30], #Mammal\n",
    "]\n",
    "chi2, pval, dof, expected = chi2_contingency(contingency2)\n",
    "print((chi2,pval))\n"
   ]
  },
  {
   "cell_type": "markdown",
   "metadata": {},
   "source": [
    "This suggests that there is no significant association between the category and conservation status based on the categories used. The p-value is also greater than 0.05 which supports the chi-square value obtained.\n"
   ]
  },
  {
   "cell_type": "markdown",
   "metadata": {},
   "source": [
    "# Conclusions"
   ]
  },
  {
   "cell_type": "markdown",
   "metadata": {},
   "source": [
    "**Conclusions drawn from questions and analysis performed:**\n",
    "\n",
    "There is no pattern when it comes to the type of species that becomes endangered as there is no significant association between the category of species and their conservation status. However, based on the data Mammals and Birds have the most species that are likely to be endangered( meaning falling under one of the following categories: 'In Recovery', 'Threatened', 'Endangered', 'Species of Concern'). In addition, Vascular plas dominate in numbers but are less likely to be endangered.\n",
    "\n",
    "The park-wise observations do not show additional patterns relevant to the conservation goals.\n",
    "\n",
    "**In the future I hope to:**\n",
    "- Compare data across different geographic regions to uncover larger biodiversity patterns.\n",
    "- Investigating changes in conservation statuses over time (if temporal data becomes available).\n",
    "\n",
    "\n"
   ]
  }
 ],
 "metadata": {
  "kernelspec": {
   "display_name": "Python 3 (ipykernel)",
   "language": "python",
   "name": "python3"
  },
  "language_info": {
   "codemirror_mode": {
    "name": "ipython",
    "version": 3
   },
   "file_extension": ".py",
   "mimetype": "text/x-python",
   "name": "python",
   "nbconvert_exporter": "python",
   "pygments_lexer": "ipython3",
   "version": "3.12.7"
  }
 },
 "nbformat": 4,
 "nbformat_minor": 4
}
