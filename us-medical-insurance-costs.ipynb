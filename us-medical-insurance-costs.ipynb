{
 "cells": [
  {
   "cell_type": "markdown",
   "metadata": {},
   "source": [
    "# U.S. Medical Insurance Costs"
   ]
  },
  {
   "cell_type": "markdown",
   "metadata": {},
   "source": [
    "## 1. Skimmed Dataset\n",
    "**First Analysis**\n",
    "* There are seven columns and no missing data.\n",
    "* Some columns are numerical while others are categorical.\n",
    "* Smoking carries a lot of weight on the charges.\n",
    "* I'm curious about how each category affects the charges an individual gets.\n",
    "  "
   ]
  },
  {
   "cell_type": "markdown",
   "metadata": {},
   "source": [
    "## 2. Project Scope\n",
    "**Goal**\n",
    "* Analyse the impact of factors affecting the insurance charges.\n",
    "* Check if a specific group(smokers/non-smokers, region)tends to incur higher insurance charges.\n",
    "* Study how insurance charges vary per age group\n",
    "* Check for bias\n",
    "\n",
    "**Data**\n",
    "The data used is the [medical insurance cost dataset](https://www.kaggle.com/datasets/mirichoi0218/insurance).\n",
    "\n",
    "**Analysis**\n",
    "Description and detection analysis are mainly used."
   ]
  },
  {
   "cell_type": "code",
   "execution_count": 11,
   "metadata": {},
   "outputs": [
    {
     "name": "stdout",
     "output_type": "stream",
     "text": [
      "      age     sex     bmi  children smoker     region      charges\n",
      "0      19  female  27.900         0    yes  southwest  16884.92400\n",
      "1      18    male  33.770         1     no  southeast   1725.55230\n",
      "2      28    male  33.000         3     no  southeast   4449.46200\n",
      "3      33    male  22.705         0     no  northwest  21984.47061\n",
      "4      32    male  28.880         0     no  northwest   3866.85520\n",
      "...   ...     ...     ...       ...    ...        ...          ...\n",
      "1333   50    male  30.970         3     no  northwest  10600.54830\n",
      "1334   18  female  31.920         0     no  northeast   2205.98080\n",
      "1335   18  female  36.850         0     no  southeast   1629.83350\n",
      "1336   21  female  25.800         0     no  southwest   2007.94500\n",
      "1337   61  female  29.070         0    yes  northwest  29141.36030\n",
      "\n",
      "[1338 rows x 7 columns]\n"
     ]
    }
   ],
   "source": [
    "#Importing dataset\n",
    "import pandas as pd\n",
    "insurance_csv = pd.read_csv(\"insurance.csv\")\n",
    "print(insurance_csv)\n"
   ]
  },
  {
   "cell_type": "code",
   "execution_count": 10,
   "metadata": {},
   "outputs": [
    {
     "name": "stdout",
     "output_type": "stream",
     "text": [
      "count    1338.000000\n",
      "mean        1.094918\n",
      "std         1.205493\n",
      "min         0.000000\n",
      "25%         0.000000\n",
      "50%         1.000000\n",
      "75%         2.000000\n",
      "max         5.000000\n",
      "Name: children, dtype: float64\n"
     ]
    }
   ],
   "source": [
    "#Statistical information of the children\n",
    "child_info = insurance_csv['children'].describe()\n",
    "print(child_info)"
   ]
  },
  {
   "cell_type": "code",
   "execution_count": 101,
   "metadata": {},
   "outputs": [
    {
     "name": "stdout",
     "output_type": "stream",
     "text": [
      "count    1338.000000\n",
      "mean       39.207025\n",
      "std        14.049960\n",
      "min        18.000000\n",
      "25%        27.000000\n",
      "50%        39.000000\n",
      "75%        51.000000\n",
      "max        64.000000\n",
      "Name: age, dtype: float64\n"
     ]
    }
   ],
   "source": [
    "#What is the average age of the patients in the dataset? (statistical info of ages)\n",
    "statistical_info = insurance_csv['age'].describe()\n",
    "print(statistical_info)\n",
    "#Therefore average age is 39"
   ]
  },
  {
   "cell_type": "code",
   "execution_count": 103,
   "metadata": {},
   "outputs": [
    {
     "name": "stdout",
     "output_type": "stream",
     "text": [
      "count    1338.000000\n",
      "mean       30.663397\n",
      "std         6.098187\n",
      "min        15.960000\n",
      "25%        26.296250\n",
      "50%        30.400000\n",
      "75%        34.693750\n",
      "max        53.130000\n",
      "Name: bmi, dtype: float64\n"
     ]
    }
   ],
   "source": [
    "#Statistical information for the bmi\n",
    "bmi_info = insurance_csv['bmi'].describe()\n",
    "print(bmi_info)"
   ]
  },
  {
   "cell_type": "code",
   "execution_count": 27,
   "metadata": {},
   "outputs": [
    {
     "name": "stdout",
     "output_type": "stream",
     "text": [
      "sex\n",
      "female    12569.578844\n",
      "male      13956.751178\n",
      "Name: charges, dtype: float64\n",
      "region\n",
      "northeast    13406.384516\n",
      "northwest    12417.575374\n",
      "southeast    14735.411438\n",
      "southwest    12346.937377\n",
      "Name: charges, dtype: float64\n",
      "children\n",
      "0    12365.975602\n",
      "1    12731.171832\n",
      "2    15073.563734\n",
      "3    15355.318367\n",
      "4    13850.656311\n",
      "5     8786.035247\n",
      "Name: charges, dtype: float64\n",
      "smoker\n",
      "no      8434.268298\n",
      "yes    32050.231832\n",
      "Name: charges, dtype: float64\n"
     ]
    }
   ],
   "source": [
    "#What column/factor has the most change/impact on the charges?\n",
    "#found the average charges for each group\n",
    "def charges_by_columns(data, columns):\n",
    "    avg_charges = data.groupby(columns)['charges'].mean() #groups dataset by sex column, charges values for each sex group, average charge for each sex.\n",
    "    return avg_charges\n",
    "\n",
    "print(charges_by_columns(insurance_csv, 'sex'))\n",
    "print(charges_by_columns(insurance_csv, 'region'))\n",
    "print(charges_by_columns(insurance_csv, 'children'))\n",
    "print(charges_by_columns(insurance_csv, 'smoker')) #Look at the different costs between smokers vs non-smokers?\n"
   ]
  },
  {
   "cell_type": "code",
   "execution_count": 127,
   "metadata": {},
   "outputs": [
    {
     "name": "stdout",
     "output_type": "stream",
     "text": [
      "The average charge of people aged 25 and less: 9087.02\n",
      "The average charge of people aged between 25 and 50: 12628.61\n",
      "The average charge of people aged above 50: 18084.99\n",
      "The average charge of people with bmi 27 and less: 10486.96\n",
      "The average charge of people with bmi between 27 and 40: 14142.63\n",
      "The average charge of people with bmi above 40: 16784.62\n"
     ]
    }
   ],
   "source": [
    "#What column/characteristic has the most change/impact on the charges?\n",
    "# use ranges for age, bmi as they have wide range\n",
    "\n",
    "#what I want to happen for each range/group calculate the average insurance charges of that group to find avg u need the total insurance charge and how many\n",
    "\n",
    "#remember min is 18 and max is 64\n",
    "def impact_by_age(data):\n",
    "    ages_25_and_less = []\n",
    "    ages_btwn_25_50 = []\n",
    "    ages_above_50 = []\n",
    "    for index, row in insurance_csv.iterrows():\n",
    "        if row['age'] <= 25:\n",
    "            ages_25_and_less.append(row['charges'])\n",
    "        elif 25 < row['age'] <= 50:\n",
    "            ages_btwn_25_50.append(row['charges'])\n",
    "        else:\n",
    "            ages_above_50.append(row['charges'])\n",
    "    avg_charge_25_and_less = round(sum(ages_25_and_less) / len(ages_25_and_less), 2)\n",
    "    avg_charge_btwn_25_50 = round(sum(ages_btwn_25_50) / len(ages_btwn_25_50), 2)\n",
    "    avg_charge_above_50 = round(sum(ages_above_50) / len(ages_above_50), 2)\n",
    "    \n",
    "    print(\"The average charge of people aged 25 and less: \" + str(avg_charge_25_and_less))\n",
    "    print(\"The average charge of people aged between 25 and 50: \" + str(avg_charge_btwn_25_50))\n",
    "    print(\"The average charge of people aged above 50: \" + str(avg_charge_above_50))\n",
    "\n",
    "# remember min is 15.96and max is 53.13\n",
    "def impact_by_bmi(data):\n",
    "    bmi_27_and_less = []\n",
    "    bmi_btwn_27_40 = []\n",
    "    bmi_above_40 = []\n",
    "    for index, row in insurance_csv.iterrows():\n",
    "        if row['bmi'] <= 27:\n",
    "            bmi_27_and_less.append(row['charges'])\n",
    "        elif 27 < row['bmi'] <= 40:\n",
    "            bmi_btwn_27_40.append(row['charges'])\n",
    "        else:\n",
    "            bmi_above_40.append(row['charges'])\n",
    "    avg_charge_27_and_less = round(sum(bmi_27_and_less) / len(bmi_27_and_less), 2)\n",
    "    avg_charge_btwn_27_40 = round(sum(bmi_btwn_27_40) / len(bmi_btwn_27_40), 2)\n",
    "    avg_charge_above_40 = round(sum(bmi_above_40) / len(bmi_above_40), 2)\n",
    "\n",
    "    print(\"The average charge of people with bmi 27 and less: \" + str(avg_charge_27_and_less))\n",
    "    print(\"The average charge of people with bmi between 27 and 40: \" + str(avg_charge_btwn_27_40))\n",
    "    print(\"The average charge of people with bmi above 40: \" + str(avg_charge_above_40))\n",
    "                                   \n",
    "    \n",
    "impact_by_age(insurance_csv)\n",
    "impact_by_bmi(insurance_csv)"
   ]
  },
  {
   "cell_type": "code",
   "execution_count": 120,
   "metadata": {},
   "outputs": [
    {
     "name": "stdout",
     "output_type": "stream",
     "text": [
      "age         0.299008\n",
      "bmi         0.198341\n",
      "children    0.067998\n",
      "charges     1.000000\n",
      "Name: charges, dtype: float64\n"
     ]
    }
   ],
   "source": [
    "##What column/characteristic has the most change/impact on the charges?-correlation analysis\n",
    "\n",
    "numeric_data = insurance_csv.select_dtypes(include=['float64', 'int64'])\n",
    "correlations = numeric_data.corr()\n",
    "print(correlations['charges'])"
   ]
  },
  {
   "cell_type": "code",
   "execution_count": 123,
   "metadata": {},
   "outputs": [
    {
     "data": {
      "image/png": "[encoded data removed]",
      "text/plain": [
       "<Figure size 800x600 with 2 Axes>"
      ]
     },
     "metadata": {},
     "output_type": "display_data"
    }
   ],
   "source": [
    "\n",
    "import seaborn as sns\n",
    "import matplotlib.pyplot as plt\n",
    "\n",
    "# Create a heatmap of correlations\n",
    "plt.figure(figsize=(8, 6)) #size of figure width 8, height 6\n",
    "sns.heatmap(correlations, annot=True, cmap='coolwarm', fmt=\".2f\")\n",
    "plt.title('Correlation Matrix')\n",
    "plt.show()\n",
    "\n",
    "#annot=True: Adds numerical values to each cell in the heatmap for clarity.\n",
    "#cmap='coolwarm': Specifies the color scheme, where cool colors (blue) represent negative correlations and warm colors (red) represent positive correlations.\n",
    "#fmt=\".2f\": Formats the numerical values in the heatmap to 2 decimal places."
   ]
  },
  {
   "cell_type": "code",
   "execution_count": 101,
   "metadata": {},
   "outputs": [
    {
     "name": "stdout",
     "output_type": "stream",
     "text": [
      "region\n",
      "southeast    364\n",
      "southwest    325\n",
      "northwest    325\n",
      "northeast    324\n",
      "Name: count, dtype: int64\n",
      "children\n",
      "0    1338\n",
      "Name: count, dtype: int64\n"
     ]
    }
   ],
   "source": [
    "#Where are the majority of individuals from?\n",
    "region_info = insurance_csv['region'].value_counts()\n",
    "print(region_info)\n",
    "# Hence majority of individuals are from the southeast"
   ]
  },
  {
   "cell_type": "code",
   "execution_count": 131,
   "metadata": {},
   "outputs": [
    {
     "name": "stdout",
     "output_type": "stream",
     "text": [
      "The average age of people with one or more children is 40.0\n"
     ]
    }
   ],
   "source": [
    "#What is the average age for someone who at least has 1 child in the dataset?\n",
    "def ages_with_child(insurance_csv):\n",
    "    age_with_child = []\n",
    "    for index, row in insurance_csv.iterrows():\n",
    "        if row['children'] >= 1:\n",
    "            age_with_child.append(row['age'])\n",
    "    if age_with_child:\n",
    "        average_age = round(sum(age_with_child) / len(age_with_child), 0)\n",
    "    else:\n",
    "        average_age = None\n",
    "    print(\"The average age of people with one or more children is \" + str(average_age))\n",
    "\n",
    "\n",
    "ages_with_child(insurance_csv)  \n"
   ]
  },
  {
   "cell_type": "code",
   "execution_count": 141,
   "metadata": {},
   "outputs": [
    {
     "name": "stdout",
     "output_type": "stream",
     "text": [
      "The percentage of people without children in this dataset is: 42.9%\n",
      "The percentage of people with children in this dataset is: 57.1%\n",
      "The ratio of people with children : to poeple without children in this dataset is 1.33\n"
     ]
    }
   ],
   "source": [
    "#What is the percentage of people with children and those without in this dataset?\n",
    "count_with_child = 0\n",
    "count_without_child = 0\n",
    "for child in insurance_csv['children']:\n",
    "    if child == 0:\n",
    "        count_without_child +=1\n",
    "    elif child >= 1:\n",
    "        count_with_child += 1\n",
    "\n",
    "total_entries = len(insurance_csv)\n",
    "percent_with_child = round((count_with_child / total_entries * 100), 2)\n",
    "percent_without_child = round((count_without_child / total_entries * 100), 2)\n",
    "\n",
    "print(\"The percentage of people without children in this dataset is: \" + str(percent_without_child) + \"%\")\n",
    "print(\"The percentage of people with children in this dataset is: \" + str(percent_with_child) + \"%\")\n",
    "ratio_child_to_nochild = round(percent_with_child / percent_without_child, 2)\n",
    "print(\"The ratio of people with children : to poeple without children in this dataset is \" + str(ratio_child_to_nochild))"
   ]
  },
  {
   "cell_type": "code",
   "execution_count": 139,
   "metadata": {},
   "outputs": [
    {
     "name": "stdout",
     "output_type": "stream",
     "text": [
      "The percentage of females in this dataset is: 49.48%\n",
      "The percentage of males in this dataset is: 50.52%\n",
      "The ratio od males: females in this dataset is 1.02\n"
     ]
    }
   ],
   "source": [
    "#What is the ratio of males: to females in this dataset\n",
    "count_female = 0\n",
    "count_male = 0\n",
    "for gender in insurance_csv['sex']:\n",
    "    if gender == 'female':\n",
    "        count_female += 1\n",
    "    elif gender == 'male':\n",
    "        count_male += 1\n",
    "\n",
    "total_entries = len(insurance_csv)\n",
    "percentage_females = round((count_female /total_entries * 100), 2)\n",
    "percentage_males = round((count_male /total_entries * 100), 2)\n",
    "\n",
    "print(\"The percentage of females in this dataset is: \" + str(percentage_females) + \"%\")\n",
    "print(\"The percentage of males in this dataset is: \" + str(percentage_males) + \"%\")\n",
    "\n",
    "ratio_male_to_female = round(percentage_males / percentage_females, 2)\n",
    "print(\"The ratio of males: females in this dataset is \" + str(ratio_male_to_female))\n"
   ]
  },
  {
   "cell_type": "markdown",
   "metadata": {},
   "source": [
    "## Conclusion\n",
    "**Based on my analysis I have found/can conclude that:**\n",
    "1. Males have a higher average charge than females but the difference isn’t that much.\n",
    "2. Southeast region has the highest average charges however that is where majority of the individuals are from.\n",
    "3. People with 3 children have the highest average charge with 5 having the least average however the correlation analysis shows there is hardly a correlation between the number of children and charges.\n",
    "4. People who smoke have a higher average charge compared to those who don’t (with the difference being significantly large),hence I can conclude smoking has a big impact on the charges.\n",
    "5. There is weak correlation between the ages of the individual and the charges, and the bmi of the individuals and the charges,\n",
    "7. 40 is the average age for someone who has at least one child in the dataset and 39.2 is the mean age hence I can conclude majority of the dataset have children. Calculating the percentage of people with children and those without showed a ratio of 1.33 which also comes to the same conclusion, however, the difference isn’t extreme.\n",
    "8. The ratio of males to females in this dataset is 1.02 which shows little to no gender bias\n",
    "\n",
    "**In the future I hope to:**\n",
    "* Use regression models to determine which features have the strongest influence on insurance charges.\n",
    "* Use the dataset to build a predictive model to estimate/predict insurance charges based on the factors.\n",
    "* Once I’ve advanced my skills I would love to further this project by answering the question “Can you accurately predict insurance cost?\"\n",
    "\n",
    "**Is there any bias and what type is it?** - Majority of the individuals in the dataset have children.\n",
    "\n"
   ]
  },
  {
   "cell_type": "code",
   "execution_count": null,
   "metadata": {},
   "outputs": [],
   "source": []
  }
 ],
 "metadata": {
  "kernelspec": {
   "display_name": "Python 3 (ipykernel)",
   "language": "python",
   "name": "python3"
  },
  "language_info": {
   "codemirror_mode": {
    "name": "ipython",
    "version": 3
   },
   "file_extension": ".py",
   "mimetype": "text/x-python",
   "name": "python",
   "nbconvert_exporter": "python",
   "pygments_lexer": "ipython3",
   "version": "3.12.7"
  }
 },
 "nbformat": 4,
 "nbformat_minor": 4
}
